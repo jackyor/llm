{
 "cells": [
  {
   "cell_type": "markdown",
   "metadata": {},
   "source": [
    "I use groq to access Mixtral 8x7b llm model. Reason of choosing groq is the api is easily created in Hong Kong and free of charge.\n",
    "\n",
    "The request content is in the content.txt which contain the text article and a prompt. The article is copy from the source https://techcrunch.com/2023/10/27/x-is-launching-new-premium-and-basic-subscription-tiers/. \n",
    "\n",
    "The prompt is the following:\n",
    "\n",
    "\"Given an article, your task is to extract information about mentioned companies and the topic of the article. The information about each company should include the company’s name and domain. The topic is the exactly the same with the first sentence of the article. Please parse this information into the following JSON format: \n",
    "\n",
    "```\n",
    "{\n",
    "  \"related_companies\": [\n",
    "    {\n",
    "      \"company_name\": \"<Company Name>\",\n",
    "      \"company_domain\": \"<Company Domain>\"\n",
    "    },\n",
    "    // More companies as needed\n",
    "  ],\n",
    "  \"topic\": \"<First Sentence of the Article>\"\n",
    "}\n",
    "```\n",
    "Please ensure the accuracy of the extracted information and the correctness of the JSON format.\""
   ]
  },
  {
   "cell_type": "code",
   "execution_count": 1,
   "metadata": {},
   "outputs": [
    {
     "name": "stdout",
     "output_type": "stream",
     "text": [
      "{\n",
      "  \"related_companies\": [\n",
      "    {\n",
      "      \"company_name\": \"X\",\n",
      "      \"company_domain\": \"X.com\"\n",
      "    },\n",
      "    {\n",
      "      \"company_name\": \"Twitter\",\n",
      "      \"company_domain\": \"Twitter.com\"\n",
      "    },\n",
      "    {\n",
      "      \"company_name\": \"Bloomberg\",\n",
      "      \"company_domain\": \"Bloomberg.com\"\n",
      "    },\n",
      "    {\n",
      "      \"company_name\": \"Reuters\",\n",
      "      \"company_domain\": \"Reuters.com\"\n",
      "    }\n",
      "  ],\n",
      "  \"topic\": \"X is launching two new subscription tiers, including a ‘Premium+’ ad-free plan.\"\n",
      "}\n"
     ]
    }
   ],
   "source": [
    "import json\n",
    "import os\n",
    "from groq import Groq\n",
    "\n",
    "text = open('content.txt').read()\n",
    "\n",
    "client = Groq(\n",
    "    api_key='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',\n",
    ")\n",
    "\n",
    "content = text\n",
    "\n",
    "chat_completion = client.chat.completions.create(\n",
    "    messages=[\n",
    "        {\n",
    "            \"role\": \"user\",\n",
    "            \"content\": content,\n",
    "        }\n",
    "    ],\n",
    "    model=\"mixtral-8x7b-32768\",\n",
    "    temperature = 0,\n",
    "    \n",
    ")\n",
    "\n",
    "print(chat_completion.choices[0].message.content)"
   ]
  },
  {
   "cell_type": "code",
   "execution_count": 2,
   "metadata": {},
   "outputs": [
    {
     "name": "stdout",
     "output_type": "stream",
     "text": [
      "('Article: X is launching two new subscription tiers, including a ‘Premium+’ '\n",
      " 'ad-free plan. \\n'\n",
      " 'X, formerly known as Twitter, is introducing\\xa0two new tiers\\xa0for its '\n",
      " 'subscription offering in order to bring in additional revenue. The social '\n",
      " 'media giant is adding a new Premium+ tier that costs $16 per month and '\n",
      " 'offers the “largest reply boost” and removes ads from the For You and '\n",
      " 'Following feeds. The tier also comes with revenue-sharing, along with access '\n",
      " 'to other creator tools. The second tier launching today is called “Basic” '\n",
      " 'and costs $3 per month. The tier doesn’t come with a blue checkmark, but '\n",
      " 'includes basic features like the ability to edit posts and post longer text '\n",
      " 'and videos. It also offers a “small reply boost.” Both of the new tiers are '\n",
      " 'now available on the web.\\n'\n",
      " 'The new tiers join the standard X Premium tier, which replaced Twitter Blue. '\n",
      " 'The tier costs $8 per month and gives users a blue checkmark, prioritized '\n",
      " 'ranking in replies, bookmark folders, longer posts, text formatting, themes, '\n",
      " 'sms two-factor authentication, encrypted DMs and more. The launch of the new '\n",
      " 'tiers comes\\xa0a few weeks\\xa0after\\xa0Bloomberg\\xa0reported that X was '\n",
      " 'working on new subscription tiers. The introduction of the new tiers will '\n",
      " 'give X additional ways to grow revenues as it deals with the loss in '\n",
      " 'advertising dollars that it has faced since Elon Musk took the reins of the '\n",
      " 'platform last fall. Musk’s controversial changes have turned away '\n",
      " 'advertisers, as major companies ended up pulling their ads from the social '\n",
      " 'network after their ads were displayed next to hate speech\\xa0and pro-Nazi '\n",
      " 'content.\\xa0Earlier this month,\\xa0Reuters\\xa0reported that the company’s '\n",
      " 'U.S. ad revenue has declined every month since Musk took over, with the '\n",
      " 'latest figures showing a 60% year-over-year decline as of August. Since '\n",
      " 'taking over the company last year, Musk has been looking for ways to '\n",
      " 'generate additional revenue, and has gone so far as charging users in New '\n",
      " 'Zealand and the Philippines\\xa0$1 per year\\xa0in order to access the social '\n",
      " 'network.\\n'\n",
      " '\\n'\n",
      " 'Given an article, your task is to extract information about mentioned '\n",
      " 'companies and the topic of the article. The information about each company '\n",
      " 'should include the company’s name and domain. The topic is the exactly the '\n",
      " 'same with the first sentence of the article. Please parse this information '\n",
      " 'into the following JSON format: \\n'\n",
      " '{\\n'\n",
      " '  \"related_companies\": [\\n'\n",
      " '    {\\n'\n",
      " '      \"company_name\": \"<Company Name>\",\\n'\n",
      " '      \"company_domain\": \"<Company Domain>\"\\n'\n",
      " '    },\\n'\n",
      " '    // More companies as needed\\n'\n",
      " '  ],\\n'\n",
      " '  \"topic\": \"<First Sentence of the Article>\"\\n'\n",
      " '}\\n'\n",
      " 'Please ensure the accuracy of the extracted information and the correctness '\n",
      " 'of the JSON format.')\n"
     ]
    }
   ],
   "source": [
    "from pprint import pprint\n",
    "\n",
    "pprint(content)"
   ]
  }
 ],
 "metadata": {
  "kernelspec": {
   "display_name": "Python 3",
   "language": "python",
   "name": "python3"
  },
  "language_info": {
   "codemirror_mode": {
    "name": "ipython",
    "version": 3
   },
   "file_extension": ".py",
   "mimetype": "text/x-python",
   "name": "python",
   "nbconvert_exporter": "python",
   "pygments_lexer": "ipython3",
   "version": "3.9.13"
  }
 },
 "nbformat": 4,
 "nbformat_minor": 2
}
